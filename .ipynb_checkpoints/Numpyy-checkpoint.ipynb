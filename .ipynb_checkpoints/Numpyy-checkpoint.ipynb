{
 "cells": [
  {
   "cell_type": "markdown",
   "id": "7b682b70",
   "metadata": {},
   "source": [
    "# Q1  Explain the purpose and advantages of NumPy in scientific computing and data analysis. How does it enhance Python's capabilities for numerical operations?"
   ]
  },
  {
   "cell_type": "code",
   "execution_count": 1,
   "id": "6d78d0ea",
   "metadata": {},
   "outputs": [],
   "source": [
    "# Advantages of numpy in scientific computing and data analysis\n",
    "\n",
    "#1 High-Performance Arrays: NumPy's N-dimensional arrays offer significant performance benefits compared to Python's built-in lists.\n",
    "# These arrays are optimized for numerical operations, leading to substantial speedups, especially for large datasets.\n",
    "\n",
    "#2 Broad Functionality: NumPy provides a comprehensive set of functions for performing various mathematical operations,\n",
    "# including linear algebra, Fourier transforms, and random number generation. This rich functionality eliminates the need for manual\n",
    "# implementation of common algorithms, saving time and effort.\n",
    "\n",
    "#3 Integration with Other Libraries: NumPy seamlessly integrates with other scientific computing libraries like SciPy, Matplotlib,\n",
    "# and Pandas. This interoperability enables powerful data analysis and visualization workflows.\n",
    "\n",
    "#4 Memory Efficiency: NumPy's arrays are stored in contiguous memory blocks, promoting efficient memory access and reducing overhead.\n",
    "# This memory efficiency is crucial for handling large datasets.\n",
    "\n",
    "#5 Vectorization: NumPy supports vectorized operations, allowing you to perform operations on entire arrays without explicit loops.\n",
    "# This vectorization often results in significant performance improvements and cleaner code.\n",
    "\n",
    "\n",
    "\n",
    "# Enhances Python's Capabilities:\n",
    "\n",
    "#1 Efficient Numerical Operations: NumPy's optimized array operations provide a substantial speedup compared to Python's built-in data structures.\n",
    "\n",
    "#2 Mathematical Functions: NumPy's extensive library of mathematical functions simplifies complex calculations and data analysis tasks.\n",
    "\n",
    "#3 Linear Algebra and Statistics: NumPy offers functions for linear algebra, statistical analysis, and other numerical computations,\n",
    "# making it a versatile tool for scientific research.\n",
    "\n",
    "#4 Data Manipulation: NumPy's arrays provide a flexible and efficient way to manipulate and transform data, including reshaping,\n",
    "# slicing, and indexing.\n",
    "\n",
    "#5 Integration with Other Libraries: NumPy's compatibility with other scientific computing libraries enables powerful data analysis\n",
    "# and visualization workflows.\n"
   ]
  },
  {
   "cell_type": "markdown",
   "id": "baa34d22",
   "metadata": {},
   "source": [
    "# Q2 Compare and contrast np.mean() and np.average() functions in NumPy. When would you use one over the other?"
   ]
  },
  {
   "cell_type": "code",
   "execution_count": 2,
   "id": "3dd4f751",
   "metadata": {},
   "outputs": [],
   "source": [
    "# np.mean()\n",
    "\n",
    "# Purpose: Calculates the arithmetic mean of an array.\n",
    "# Weights: Assumes all elements have equal weight.\n",
    "# Usage: np.mean(array)\n",
    "\n",
    "# np.average()\n",
    "\n",
    "# Purpose: Calculates the weighted average of an array.\n",
    "# Weights: Allows you to specify weights for each element.\n",
    "# Usage: np.average(array, weights=None)\n",
    "\n",
    "# When to use np.mean():\n",
    "\n",
    "# When all elements have equal weight.\n",
    "# For simple arithmetic mean calculations.\n",
    "\n",
    "# When to use np.average():\n",
    "\n",
    "# When elements have different weights.\n",
    "# For weighted average calculations."
   ]
  },
  {
   "cell_type": "markdown",
   "id": "e5a3318b",
   "metadata": {},
   "source": [
    "# Q3 Describe the methods for reversing a NumPy array along different axes. Provide examples for 1D and 2D arrays"
   ]
  },
  {
   "cell_type": "code",
   "execution_count": 3,
   "id": "b43f9a62",
   "metadata": {},
   "outputs": [
    {
     "name": "stdout",
     "output_type": "stream",
     "text": [
      "[4 3 2 1]\n",
      "[[4 5 6]\n",
      " [1 2 3]]\n",
      "[[3 2 1]\n",
      " [6 5 4]]\n",
      "[[6 5 4]\n",
      " [3 2 1]]\n"
     ]
    }
   ],
   "source": [
    "# Methods for Reversing NumPy Arrays:\n",
    "\n",
    "# np.flip(array, axis=None):\n",
    "import numpy as np\n",
    "array1d = np.array([1, 2, 3, 4])\n",
    "reversed_array1d = array1d[::-1]\n",
    "print(reversed_array1d)  \n",
    "\n",
    "# Reverses the order of elements along the specified axis.\n",
    "# If axis is not specified, it reverses along all axes.\n",
    "# array[::-1]:\n",
    "\n",
    "# Reverses the order of elements along the first axis (rows in a 2D array).\n",
    "# array[:, ::-1]:\n",
    "\n",
    "# Reverses the order of elements along the second axis (columns in a 2D array).\n",
    "array2d = np.array([[1, 2, 3],\n",
    "                   [4, 5, 6]])\n",
    "\n",
    "# Reversing along the first axis (rows)\n",
    "reversed_rows = array2d[::-1]\n",
    "\n",
    "print(reversed_rows) \n",
    "\n",
    "# Reversing along the second axis (columns)\n",
    "reversed_cols = array2d[:, ::-1]\n",
    "\n",
    "print(reversed_cols)  \n",
    "\n",
    "# Reversing along both axes\n",
    "reversed_both = np.flip(array2d)\n",
    "\n",
    "print(reversed_both)  "
   ]
  },
  {
   "cell_type": "markdown",
   "id": "b345bb1a",
   "metadata": {},
   "source": [
    "# Q4 How can you determine the data type of elements in a NumPy array? Discuss the importance of data types in memory management and performance"
   ]
  },
  {
   "cell_type": "code",
   "execution_count": 4,
   "id": "f418ab5d",
   "metadata": {},
   "outputs": [
    {
     "name": "stdout",
     "output_type": "stream",
     "text": [
      "int([x]) -> integer\n",
      "int(x, base=10) -> integer\n",
      "\n",
      "Convert a number or string to an integer, or return 0 if no arguments\n",
      "are given.  If x is a number, return x.__int__().  For floating point\n",
      "numbers, this truncates towards zero.\n",
      "\n",
      "If x is not a number or if base is given, then x must be a string,\n",
      "bytes, or bytearray instance representing an integer literal in the\n",
      "given base.  The literal can be preceded by '+' or '-' and be surrounded\n",
      "by whitespace.  The base defaults to 10.  Valid bases are 0 and 2-36.\n",
      "Base 0 means to interpret the base from the string as an integer literal.\n",
      ">>> int('0b100', base=0)\n",
      "4\n",
      "class:  ndarray\n",
      "shape:  (4,)\n",
      "strides:  (4,)\n",
      "itemsize:  4\n",
      "aligned:  True\n",
      "contiguous:  True\n",
      "fortran:  True\n",
      "data pointer: 0x24f27256970\n",
      "byteorder:  little\n",
      "byteswap:  False\n",
      "type: int32\n"
     ]
    }
   ],
   "source": [
    "# Determining Data Types:\n",
    "\n",
    "# NumPy provides several methods to ascertain the data type of elements within an array:\n",
    "    \n",
    "    \n",
    "# dtype Attribute:\n",
    "\n",
    "# Directly access the dtype attribute of the array:\n",
    "array = np.array([1, 2, 3, 4])\n",
    "data_type = array.dtype\n",
    "data_type\n",
    "\n",
    "# type() Function:\n",
    "array1=[1,2,3]\n",
    "element=array1[0]\n",
    "data_type1=type(element)\n",
    "data_type1\n",
    "\n",
    "\n",
    "# np.info() Function:\n",
    "\n",
    "# Use np.info() to get information about the array's dtype:\n",
    "\n",
    "np.info(element)\n",
    "np.info(array)\n",
    "\n",
    "# Importance of Data Types:\n",
    "\n",
    "# Data types play a crucial role in NumPy arrays for memory management and performance:\n",
    "\n",
    "# 1 Memory Allocation------->\n",
    "#1)  NumPy allocates memory for elements based on their data types. Smaller data types, like int8 or float32, require less memory than larger ones like int64 or float64.\n",
    "# 2) By using appropriate data types, you can optimize memory usage and avoid unnecessary overhead.\n",
    "\n",
    "\n",
    "#2 Performance:\n",
    "\n",
    "#1)  NumPy's optimized operations are often tailored to specific data types. Using the correct data type can significantly improve the speed of calculations.\n",
    "#2) For example perations on integer arrays are generally faster than those on floating-point arrays.\n",
    "\n",
    "\n",
    "# Data Integrity:\n",
    "\n",
    "# Choosing the right data type ensures that your data is stored and manipulated accurately. For instance, using int8 for values that exceed its range (typically -128 to 127) can lead to data corruption."
   ]
  },
  {
   "cell_type": "markdown",
   "id": "5613e4a7",
   "metadata": {},
   "source": [
    "# Q5 Define ndarrays in NumPy and explain their key features. How do they differ from standard Python lists?"
   ]
  },
  {
   "cell_type": "code",
   "execution_count": 5,
   "id": "c1a8dc08",
   "metadata": {},
   "outputs": [],
   "source": [
    "\n",
    "# ndarrays (n-dimensional arrays) are the fundamental data structure in NumPy. They provide a powerful and efficient way to represent\n",
    "# and manipulate numerical data in Python. Unlike standard Python lists, ndarrays are optimized for numerical operations and offer\n",
    "# several key advantages.\n",
    "\n",
    "\n",
    "\n",
    "# Key Features of NumPy ndarrays:\n",
    "# 1 Homogeneous Data Type: Unlike Python lists, which can contain elements of different data types, ndarrays must have all elements\n",
    "# of the same data type. This ensures efficient memory usage and optimized numerical operations.\n",
    "\n",
    "# 2 Fixed Size: The size of an ndarray is fixed once it's created. This allows for efficient memory allocation and indexing.\n",
    "# While Python lists can dynamically change size, ndarrays are more suitable for large, fixed-size datasets.\n",
    "\n",
    "# 3 Multi-Dimensional: ndarrays can represent data in multiple dimensions, from one-dimensional vectors to higher-dimensional\n",
    "# matrices and tensors. This flexibility makes them suitable for a wide range of applications, including image processing, machine learning, and scientific computing.\n",
    "\n",
    "# 4 Vectorized Operations: NumPy provides vectorized operations that perform operations on entire arrays element-wise, without\n",
    "# the need for explicit loops. This significantly improves performance and readability.\n",
    "\n",
    "# 5 Broadcasting: NumPy's broadcasting mechanism allows arrays of different shapes to be compatible for arithmetic operations\n",
    "# . This simplifies code and avoids manual looping.\n",
    "\n",
    "# 6 Memory Efficiency: ndarrays are stored in contiguous memory blocks, which enables efficient memory access and optimized\n",
    "# calculations.\n",
    "\n",
    "# 7 Integration with Other Libraries: NumPy seamlessly integrates with other scientific computing libraries like SciPy,\n",
    "# Matplotlib, and Pandas, making it a versatile tool for data analysis and visualization."
   ]
  },
  {
   "cell_type": "markdown",
   "id": "b459dec1",
   "metadata": {},
   "source": [
    "# Q6 Analyze the performance benefits of NumPy arrays over Python lists for large-scale numerical operations"
   ]
  },
  {
   "cell_type": "code",
   "execution_count": 6,
   "id": "79ab4102",
   "metadata": {},
   "outputs": [],
   "source": [
    "# 1. Data Type Homogeneity and Memory Efficiency:\n",
    "\n",
    "# Homogeneous Data Type: NumPy arrays require all elements to have the same data type, which allows for more efficient memory allocation and access. Python lists, on the other hand, can store elements of various data types, leading to overhead in memory management.\n",
    "# Contiguous Memory Layout: NumPy arrays are stored in contiguous memory blocks, enabling faster access and arithmetic operations. Python lists, being more general-purpose, may have non-contiguous memory layouts, resulting in slower access times.\n",
    "\n",
    "# 2. Vectorized Operations:\n",
    "    \n",
    "# Element-wise Operations: NumPy provides vectorized operations that perform operations on entire arrays at once, without the need for explicit loops. This eliminates the overhead of Python's interpreter and leverages the efficiency of compiled C code.\n",
    "# Performance Boost: Vectorized operations can significantly improve performance, especially for large datasets. Python lists, relying on interpreted loops, are generally slower for numerical computations.\n",
    "    \n",
    "# 3. Optimized Algorithms:\n",
    "    \n",
    "# Optimized Libraries: NumPy leverages highly optimized algorithms and libraries written in C or Fortran for many numerical operations. These algorithms are often tailored for specific data types and hardware architectures, providing substantial performance gains.\n",
    "# Numerical Precision: NumPy's optimized algorithms can also ensure numerical accuracy and stability, which is crucial for many scientific and engineering applications.\n",
    "    \n",
    "# 4. Broadcasting:\n",
    "    \n",
    "# Automatic Shape Inference: NumPy's broadcasting mechanism allows arrays of different shapes to be compatible for arithmetic operations. This eliminates the need for manual reshaping or looping, simplifying code and improving performance.\n",
    "# Efficient Operations: Broadcasting can enable efficient operations on arrays of different sizes, without requiring explicit element-wise loops."
   ]
  },
  {
   "cell_type": "markdown",
   "id": "243ad31d",
   "metadata": {},
   "source": [
    "# Q7  Compare vstack() and hstack() functions in NumPy. Provide examples demonstrating their usage and output"
   ]
  },
  {
   "cell_type": "code",
   "execution_count": 7,
   "id": "542ad979",
   "metadata": {},
   "outputs": [
    {
     "name": "stdout",
     "output_type": "stream",
     "text": [
      "[[1 2]\n",
      " [3 4]\n",
      " [5 6]\n",
      " [7 8]]\n",
      "[[1 2 5 6]\n",
      " [3 4 7 8]]\n"
     ]
    }
   ],
   "source": [
    "# Comparing vstack() and hstack() in NumPy\n",
    "# vstack()\n",
    "\n",
    "# Vertical stacking: Stacks arrays vertically, row-wise.\n",
    "# Input: A sequence of arrays with compatible shapes (same number of columns).\n",
    "# Output: A new array with the stacked arrays as rows.\n",
    "\n",
    "# Example:\n",
    "array1 = np.array([[1, 2], [3, 4]])\n",
    "array2 = np.array([[5, 6], [7, 8]])\n",
    "\n",
    "stacked_array = np.vstack((array1, array2))\n",
    "print(stacked_array)\n",
    "\n",
    "# hstack()\n",
    "# Horizontal stacking: Stacks arrays horizontally, column-wise.\n",
    "# Input: A sequence of arrays with compatible shapes (same number of rows).\n",
    "# Output: A new array with the stacked arrays as columns.\n",
    "\n",
    "array1 = np.array([[1, 2], [3, 4]])\n",
    "array2 = np.array([[5, 6], [7, 8]])\n",
    "\n",
    "stacked_array = np.hstack((array1, array2))\n",
    "print(stacked_array)"
   ]
  },
  {
   "cell_type": "markdown",
   "id": "a82b839d",
   "metadata": {},
   "source": [
    "# Q8 Explain the differences between fliplr() and flipud() methods in NumPy, including their effects on various array dimensions."
   ]
  },
  {
   "cell_type": "code",
   "execution_count": 8,
   "id": "d45c4948",
   "metadata": {},
   "outputs": [
    {
     "name": "stdout",
     "output_type": "stream",
     "text": [
      "[[3 2 1]\n",
      " [6 5 4]]\n",
      "[[4 5 6]\n",
      " [1 2 3]]\n"
     ]
    }
   ],
   "source": [
    "# fliplr()\n",
    "# Purpose: Flips the array left and right, reversing the order of elements along the first axis (typically the columns).\n",
    "# Effect: Reverses the order of columns in a 2D array or the first dimension in higher-dimensional arrays.\n",
    "array = np.array([[1, 2, 3],\n",
    "                 [4, 5, 6]])\n",
    "\n",
    "flipped_array = np.fliplr(array)\n",
    "print(flipped_array)\n",
    "# fliplr() reverses the order along the first axis (columns).\n",
    "\n",
    "\n",
    "\n",
    "# flipud()\n",
    "# Purpose: Flips the array up and down, reversing the order of elements along the last axis (typically the rows).\n",
    "# Effect: Reverses the order of rows in a 2D array or the last dimension in higher-dimensional arrays.\n",
    "array = np.array([[1, 2, 3],\n",
    "                 [4, 5, 6]])\n",
    "\n",
    "flipped_array = np.flipud(array)\n",
    "print(flipped_array) \n",
    "# flipud() reverses the order along the last axis (rows)."
   ]
  },
  {
   "cell_type": "markdown",
   "id": "a8a4d7fc",
   "metadata": {},
   "source": [
    "# Q9  Discuss the functionality of the array_split() method in NumPy. How does it handle uneven splits"
   ]
  },
  {
   "cell_type": "code",
   "execution_count": 9,
   "id": "f3b2041c",
   "metadata": {},
   "outputs": [
    {
     "name": "stdout",
     "output_type": "stream",
     "text": [
      "[array([1, 2]), array([3, 4]), array([5, 6])]\n",
      "[array([1, 2, 3]), array([4, 5]), array([6, 7])]\n"
     ]
    }
   ],
   "source": [
    "# Functionality:\n",
    "\n",
    "# Splits an array: Divides an array into a specified number of sub-arrays.\n",
    "# Handles uneven splits: If the array cannot be evenly divided, the last sub-array will contain the remaining elements.\n",
    "# Returns a list: Returns a list of sub-arrays\n",
    "\n",
    "\n",
    "# Syntax\n",
    "# np.array_split(ary, sections, axis=0)\n",
    "\n",
    "\n",
    "# ary: The array to be split.\n",
    "# sections: The number of sub-arrays to create.\n",
    "# axis: The axis along which to split the array (default is 0, which splits rows).\n",
    "\n",
    "# Example: Even split\n",
    "\n",
    "arr = np.array([1, 2, 3, 4, 5, 6])\n",
    "split_arr = np.array_split(arr, 3)\n",
    "print(split_arr)\n",
    "\n",
    "# Example Uneven Split\n",
    "\n",
    "arr = np.array([1, 2, 3, 4, 5, 6, 7])\n",
    "split_arr = np.array_split(arr, 3)\n",
    "print(split_arr)\n",
    "\n",
    "# The array_split() method is flexible and can handle both even and uneven splits.\n",
    "\n",
    "# The axis parameter allows you to specify the axis along which to split the array.\n",
    "# The function returns a list of sub-arrays.\n",
    "# The last sub-array will contain any remaining elements if the split is uneven.\n",
    "\n"
   ]
  },
  {
   "cell_type": "markdown",
   "id": "1f87c960",
   "metadata": {},
   "source": [
    "# Q10 Explain the concepts of vectorization and broadcasting in NumPy. How do they contribute to efficient array operations"
   ]
  },
  {
   "cell_type": "code",
   "execution_count": 10,
   "id": "0bb4e574",
   "metadata": {},
   "outputs": [
    {
     "name": "stdout",
     "output_type": "stream",
     "text": [
      "[[ 4 10 18]]\n"
     ]
    }
   ],
   "source": [
    "# Vectorization and Broadcasting in NumPy\n",
    "# Vectorization and broadcasting are two fundamental concepts in NumPy that significantly enhance the efficiency of array operations. They allow for element-wise operations on entire arrays without the need for explicit loops, leading to substantial performance gains.\n",
    "\n",
    "# Vectorization\n",
    "# Definition: Vectorization is the process of performing operations on entire arrays element-wise, rather than using loops to iterate over each element individually.\n",
    "# Benefits:\n",
    "# Performance: Vectorized operations are typically much faster than their loop-based counterparts, as they leverage optimized algorithms implemented in compiled languages.\n",
    "# Readability: Vectorized code is often more concise and easier to understand than equivalent loop-based code.\n",
    "# Memory efficiency: Vectorized operations can sometimes be more memory-efficient than loops, especially for large arrays.\n",
    "\n",
    "\n",
    "# x = np.array([1, 2, 3])\n",
    "# y = np.array([4, 5, 6])\n",
    "\n",
    "# Vectorized addition\n",
    "# result = x + y\n",
    "# print(result) \n",
    "\n",
    "\n",
    "# Broadcasting:\n",
    "# Definition: Broadcasting is a mechanism in NumPy that allows arrays of different shapes to be compatible for arithmetic operations. It automatically expands the smaller array to match the shape of the larger array before performing the operation.Rules:\n",
    "\n",
    "# The arrays must have compatible shapes.\n",
    "# If an array has a shape of 1 in a particular dimension, it can be stretched to match the shape of the other array in that dimension.\n",
    "# If two arrays have different shapes, they can only be broadcast together if one of them has a shape of 1 in one or more dimensions.\n",
    "\n",
    "import numpy as np\n",
    "x = np.array([1, 2, 3])\n",
    "y = np.array([[4], [5], [6]])\n",
    "\n",
    "# Reshape y to a 1x3 matrix\n",
    "y = y.reshape(1, 3)\n",
    "\n",
    "# Broadcasting\n",
    "result = x * y\n",
    "print(result)  # Output: [[4 8 12], [5 10 15], [6 12 18]]"
   ]
  },
  {
   "cell_type": "markdown",
   "id": "8061150e",
   "metadata": {},
   "source": [
    "# Practical Questions"
   ]
  },
  {
   "cell_type": "markdown",
   "id": "6d709cb8",
   "metadata": {},
   "source": [
    "# Q1 Create a 3x3 NumPy array with random integers between 1 and 100. Then, interchange its rows and columns"
   ]
  },
  {
   "cell_type": "code",
   "execution_count": 11,
   "id": "64d4d8c2",
   "metadata": {},
   "outputs": [
    {
     "data": {
      "text/plain": [
       "array([[63, 82, 46],\n",
       "       [18, 43, 23],\n",
       "       [27, 61, 51]])"
      ]
     },
     "execution_count": 11,
     "metadata": {},
     "output_type": "execute_result"
    }
   ],
   "source": [
    "import random\n",
    "arr=np.random.randint(1,100,size=(3,3))\n",
    "arr"
   ]
  },
  {
   "cell_type": "markdown",
   "id": "37383ea8",
   "metadata": {},
   "source": [
    "# Q2 Generate a 1D NumPy array with 10 elements. Reshape it into a 2x5 array, then into a 5x2 array"
   ]
  },
  {
   "cell_type": "code",
   "execution_count": 12,
   "id": "a53cc28c",
   "metadata": {},
   "outputs": [
    {
     "data": {
      "text/plain": [
       "array([[ 1,  2],\n",
       "       [ 3,  4],\n",
       "       [ 5,  6],\n",
       "       [ 7,  8],\n",
       "       [ 9, 10]])"
      ]
     },
     "execution_count": 12,
     "metadata": {},
     "output_type": "execute_result"
    }
   ],
   "source": [
    "arr1=np.array([1,2,3,4,5,6,7,8,9,10])\n",
    "arr1\n",
    "arr1.reshape(2,5)\n",
    "arr1.reshape(5,2)"
   ]
  },
  {
   "cell_type": "markdown",
   "id": "1ec83a52",
   "metadata": {},
   "source": [
    "# Q3 Create a 4x4 NumPy array with random float values. Add a border of zeros around it, resulting in a 6x6 array."
   ]
  },
  {
   "cell_type": "code",
   "execution_count": 13,
   "id": "faef5dbb",
   "metadata": {},
   "outputs": [
    {
     "name": "stdout",
     "output_type": "stream",
     "text": [
      "[[0.         0.         0.         0.         0.         0.        ]\n",
      " [0.         0.29640922 0.96571799 0.38763007 0.22798166 0.        ]\n",
      " [0.         0.62768007 0.85260601 0.87808434 0.29265071 0.        ]\n",
      " [0.         0.4136439  0.33377584 0.87582461 0.24096133 0.        ]\n",
      " [0.         0.37685061 0.54496972 0.92112346 0.27015829 0.        ]\n",
      " [0.         0.         0.         0.         0.         0.        ]]\n"
     ]
    }
   ],
   "source": [
    "arr2=np.random.rand(4,4)\n",
    "bordered_arr = np.pad(arr2, 1)\n",
    "print(bordered_arr)"
   ]
  },
  {
   "cell_type": "markdown",
   "id": "689c7ddb",
   "metadata": {},
   "source": [
    "# Q4 Using NumPy, create an array of integers from 10 to 60 with a step of 5."
   ]
  },
  {
   "cell_type": "code",
   "execution_count": 14,
   "id": "0d0ae014",
   "metadata": {},
   "outputs": [],
   "source": [
    "arr3=np.arange(10,60,5)"
   ]
  },
  {
   "cell_type": "code",
   "execution_count": 15,
   "id": "4c5d13b0",
   "metadata": {},
   "outputs": [
    {
     "data": {
      "text/plain": [
       "array([10, 15, 20, 25, 30, 35, 40, 45, 50, 55])"
      ]
     },
     "execution_count": 15,
     "metadata": {},
     "output_type": "execute_result"
    }
   ],
   "source": [
    "arr3"
   ]
  },
  {
   "cell_type": "markdown",
   "id": "ef9a227d",
   "metadata": {},
   "source": [
    "# Q5  Create a NumPy array of strings ['python', 'numpy', 'pandas']. Apply different case transformations (uppercase, lowercase, title case, etc.) to each element."
   ]
  },
  {
   "cell_type": "code",
   "execution_count": 16,
   "id": "97d69bd1",
   "metadata": {},
   "outputs": [
    {
     "data": {
      "text/plain": [
       "array(['python', 'numpy', 'pandas'], dtype='<U6')"
      ]
     },
     "execution_count": 16,
     "metadata": {},
     "output_type": "execute_result"
    }
   ],
   "source": [
    "arr4=np.array(['python','numpy','pandas'])\n",
    "arr4"
   ]
  },
  {
   "cell_type": "code",
   "execution_count": 17,
   "id": "41813e6b",
   "metadata": {},
   "outputs": [
    {
     "data": {
      "text/plain": [
       "array(['PYTHON', 'NUMPY', 'PANDAS'], dtype='<U6')"
      ]
     },
     "execution_count": 17,
     "metadata": {},
     "output_type": "execute_result"
    }
   ],
   "source": [
    "np.char.upper(arr4)"
   ]
  },
  {
   "cell_type": "code",
   "execution_count": 18,
   "id": "fbabb728",
   "metadata": {},
   "outputs": [
    {
     "data": {
      "text/plain": [
       "array(['python', 'numpy', 'pandas'], dtype='<U6')"
      ]
     },
     "execution_count": 18,
     "metadata": {},
     "output_type": "execute_result"
    }
   ],
   "source": [
    "np.char.lower(arr4)"
   ]
  },
  {
   "cell_type": "code",
   "execution_count": 19,
   "id": "7dd63a76",
   "metadata": {},
   "outputs": [
    {
     "data": {
      "text/plain": [
       "array(['Python', 'Numpy', 'Pandas'], dtype='<U6')"
      ]
     },
     "execution_count": 19,
     "metadata": {},
     "output_type": "execute_result"
    }
   ],
   "source": [
    "np.char.capitalize(arr4)"
   ]
  },
  {
   "cell_type": "markdown",
   "id": "81f62a6b",
   "metadata": {},
   "source": [
    "# Q6 Generate a NumPy array of words. Insert a space between each character of every word in the array"
   ]
  },
  {
   "cell_type": "code",
   "execution_count": 20,
   "id": "ab8f14da",
   "metadata": {},
   "outputs": [
    {
     "name": "stdout",
     "output_type": "stream",
     "text": [
      "['p y t h o n' 'n u m p y' 'p a n d a s']\n"
     ]
    }
   ],
   "source": [
    "words = np.array(['python', 'numpy', 'pandas'])\n",
    "spaced_words = np.char.join(' ', words)\n",
    "print(spaced_words)"
   ]
  },
  {
   "cell_type": "markdown",
   "id": "de8bcd5d",
   "metadata": {},
   "source": [
    "# Q7 Create two 2D NumPy arrays and perform element-wise addition, subtraction, multiplication, and division."
   ]
  },
  {
   "cell_type": "code",
   "execution_count": 21,
   "id": "a9c0471b",
   "metadata": {},
   "outputs": [],
   "source": [
    "arr6=np.array([[1,2,3,4],[5,6,7,8]])\n",
    "arr7=np.array([[1,2,3,4],[5,6,7,8]])"
   ]
  },
  {
   "cell_type": "code",
   "execution_count": 22,
   "id": "2207b810",
   "metadata": {},
   "outputs": [
    {
     "data": {
      "text/plain": [
       "array([[ 2,  4,  6,  8],\n",
       "       [10, 12, 14, 16]])"
      ]
     },
     "execution_count": 22,
     "metadata": {},
     "output_type": "execute_result"
    }
   ],
   "source": [
    "arr6+arr7"
   ]
  },
  {
   "cell_type": "code",
   "execution_count": 23,
   "id": "a15edfcf",
   "metadata": {},
   "outputs": [
    {
     "data": {
      "text/plain": [
       "array([[0, 0, 0, 0],\n",
       "       [0, 0, 0, 0]])"
      ]
     },
     "execution_count": 23,
     "metadata": {},
     "output_type": "execute_result"
    }
   ],
   "source": [
    "arr6-arr7"
   ]
  },
  {
   "cell_type": "code",
   "execution_count": 24,
   "id": "94bfea79",
   "metadata": {},
   "outputs": [
    {
     "data": {
      "text/plain": [
       "array([[ 1,  4,  9, 16],\n",
       "       [25, 36, 49, 64]])"
      ]
     },
     "execution_count": 24,
     "metadata": {},
     "output_type": "execute_result"
    }
   ],
   "source": [
    "arr6*arr7"
   ]
  },
  {
   "cell_type": "code",
   "execution_count": 25,
   "id": "262a87fd",
   "metadata": {},
   "outputs": [
    {
     "data": {
      "text/plain": [
       "array([[1., 1., 1., 1.],\n",
       "       [1., 1., 1., 1.]])"
      ]
     },
     "execution_count": 25,
     "metadata": {},
     "output_type": "execute_result"
    }
   ],
   "source": [
    "arr6/arr7"
   ]
  },
  {
   "cell_type": "markdown",
   "id": "f8c6672e",
   "metadata": {},
   "source": [
    "# Q8  Use NumPy to create a 5x5 identity matrix, then extract its diagonal elements."
   ]
  },
  {
   "cell_type": "code",
   "execution_count": 26,
   "id": "70f07b17",
   "metadata": {},
   "outputs": [
    {
     "data": {
      "text/plain": [
       "array([1., 1., 1., 1., 1.])"
      ]
     },
     "execution_count": 26,
     "metadata": {},
     "output_type": "execute_result"
    }
   ],
   "source": [
    "identity_matrix = np.eye(5)\n",
    "identity_matrix\n",
    "diagonal_elements = identity_matrix.diagonal()\n",
    "diagonal_elements"
   ]
  },
  {
   "cell_type": "markdown",
   "id": "4abdab8a",
   "metadata": {},
   "source": [
    "# Q9 Generate a NumPy array of 100 random integers between 0 and 1000. Find and display all prime numbers in this array."
   ]
  },
  {
   "cell_type": "code",
   "execution_count": 27,
   "id": "b12e9118",
   "metadata": {},
   "outputs": [
    {
     "name": "stdout",
     "output_type": "stream",
     "text": [
      "Prime numbers in the array: [233, 197, 541, 307, 797, 859, 607, 881, 719, 11, 587, 233, 149, 727, 769, 643, 383, 313, 419, 353, 853, 929, 569, 751, 907, 5, 397, 43, 179, 107, 467, 73, 673, 347, 881, 907, 683, 307, 211, 467, 241, 491, 79, 449, 11, 263, 569, 739, 293, 941, 683, 257, 769, 5, 157, 809, 823, 773, 389, 19, 269, 863, 313, 571, 499, 67, 677, 17, 647, 347, 83, 593, 139, 137, 631, 163, 359, 809, 821, 281, 761, 557, 163, 571, 739, 421, 797, 809, 271, 449, 557, 241, 941, 421, 929, 31, 769, 241, 487, 197]\n"
     ]
    }
   ],
   "source": [
    "# Function to check prime\n",
    "def is_prime(num):\n",
    "    if num <= 1:\n",
    "        return False\n",
    "    if num <= 3:\n",
    "        return True\n",
    "    if num % 2 == 0 or num % 3 == 0:\n",
    "        return False\n",
    "    i = 5\n",
    "    while i * i <= num:\n",
    "        if num % i == 0 or num % (i + 2) == 0:\n",
    "            return False\n",
    "        i += 6\n",
    "    return True\n",
    "\n",
    "# Generate random numbers until 100 prime numbers are found\n",
    "prime_numbers = []\n",
    "while len(prime_numbers) < 100:\n",
    "    random_num = np.random.randint(0, 1001)\n",
    "    if is_prime(random_num):\n",
    "        prime_numbers.append(random_num)\n",
    "\n",
    "# Displaying the prime numbers\n",
    "print(\"Prime numbers in the array:\", prime_numbers)\n"
   ]
  },
  {
   "cell_type": "markdown",
   "id": "eb826de1",
   "metadata": {},
   "source": [
    "# Q10 Create a NumPy array representing daily temperatures for a month. Calculate and display the weekly averages"
   ]
  },
  {
   "cell_type": "code",
   "execution_count": 28,
   "id": "67262d81",
   "metadata": {},
   "outputs": [
    {
     "name": "stdout",
     "output_type": "stream",
     "text": [
      "Weekly averages: [73.83333333 78.66666667 69.         69.83333333 79.16666667]\n"
     ]
    }
   ],
   "source": [
    "# Create a NumPy array representing daily temperatures for a month (assuming 30 days)\n",
    "daily_temperatures = np.random.randint(60, 90, 30)\n",
    "\n",
    "# Calculate weekly averages\n",
    "weekly_averages = np.mean(daily_temperatures.reshape(5, 6), axis=1)\n",
    "\n",
    "# Display the weekly averages\n",
    "print(\"Weekly averages:\", weekly_averages)"
   ]
  },
  {
   "cell_type": "code",
   "execution_count": null,
   "id": "437c5536",
   "metadata": {},
   "outputs": [],
   "source": []
  }
 ],
 "metadata": {
  "kernelspec": {
   "display_name": "Python 3 (ipykernel)",
   "language": "python",
   "name": "python3"
  },
  "language_info": {
   "codemirror_mode": {
    "name": "ipython",
    "version": 3
   },
   "file_extension": ".py",
   "mimetype": "text/x-python",
   "name": "python",
   "nbconvert_exporter": "python",
   "pygments_lexer": "ipython3",
   "version": "3.9.13"
  }
 },
 "nbformat": 4,
 "nbformat_minor": 5
}
